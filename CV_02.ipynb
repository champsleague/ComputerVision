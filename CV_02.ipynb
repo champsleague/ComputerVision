{
  "nbformat": 4,
  "nbformat_minor": 0,
  "metadata": {
    "colab": {
      "provenance": [],
      "authorship_tag": "ABX9TyM/PD83od7NoQY/8DTbcb2P",
      "include_colab_link": true
    },
    "kernelspec": {
      "name": "python3",
      "display_name": "Python 3"
    },
    "language_info": {
      "name": "python"
    },
    "accelerator": "GPU",
    "gpuClass": "standard"
  },
  "cells": [
    {
      "cell_type": "markdown",
      "metadata": {
        "id": "view-in-github",
        "colab_type": "text"
      },
      "source": [
        "<a href=\"https://colab.research.google.com/github/champsleague/ComputerVision/blob/main/CV_02.ipynb\" target=\"_parent\"><img src=\"https://colab.research.google.com/assets/colab-badge.svg\" alt=\"Open In Colab\"/></a>"
      ]
    },
    {
      "cell_type": "code",
      "execution_count": 2,
      "metadata": {
        "colab": {
          "base_uri": "https://localhost:8080/"
        },
        "id": "74M1DAH7Yt29",
        "outputId": "bb86f8d3-34f5-4545-b87a-ee02f49c1c97"
      },
      "outputs": [
        {
          "output_type": "stream",
          "name": "stdout",
          "text": [
            "Image Size =  (512, 512, 3)\n"
          ]
        }
      ],
      "source": [
        "# [Lab 2-1] Simple Image Processing\n",
        "\n",
        "import cv2 as cv\n",
        "import sys\n",
        "from matplotlib import pyplot as plt\n",
        "\n",
        "img=cv.imread('lena_color.png')\n",
        "\n",
        "if img is None:\n",
        "  sys.exit(\"cannot find file\")\n",
        "\n",
        "print(\"Image Size = \",img.shape)\n",
        "h,w,c = img.shape"
      ]
    }
  ]
}